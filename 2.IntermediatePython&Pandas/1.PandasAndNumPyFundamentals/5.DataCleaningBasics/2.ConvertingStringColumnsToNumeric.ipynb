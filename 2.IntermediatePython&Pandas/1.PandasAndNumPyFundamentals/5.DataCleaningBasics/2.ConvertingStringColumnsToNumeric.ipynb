{
 "cells": [
  {
   "cell_type": "code",
   "execution_count": 77,
   "metadata": {},
   "outputs": [],
   "source": [
    "import pandas as pd\n",
    "import numpy as np\n",
    "\n",
    "laptops = pd.read_csv(\"https://raw.githubusercontent.com/aaroncfo/PythonDA/master/2.IntermediatePython%26Pandas/5.DataCleaningBasics/laptops.csv\", encoding  = \"Windows-1251\")\n",
    "laptops_copy = laptops.copy()"
   ]
  },
  {
   "cell_type": "code",
   "execution_count": 78,
   "metadata": {},
   "outputs": [
    {
     "name": "stdout",
     "output_type": "stream",
     "text": [
      "Index(['Manufacturer', 'Model Name', 'Category', 'Screen Size', 'Screen',\n",
      "       'CPU', 'RAM', ' Storage', 'GPU', 'Operating System',\n",
      "       'Operating System Version', 'Weight', 'Price (Euros)'],\n",
      "      dtype='object')\n"
     ]
    }
   ],
   "source": [
    "print(laptops_copy.columns)"
   ]
  },
  {
   "cell_type": "code",
   "execution_count": 79,
   "metadata": {},
   "outputs": [
    {
     "name": "stdout",
     "output_type": "stream",
     "text": [
      "Index(['manufacturer', 'model_name', 'category', 'screen_size', 'screen',\n",
      "       'cpu', 'ram', 'storage', 'gpu', 'os', 'os_version', 'weight',\n",
      "       'price_euros'],\n",
      "      dtype='object')\n"
     ]
    }
   ],
   "source": [
    "def col_cleaner(column):\n",
    "    column = column.strip()\n",
    "    column = column.replace(\"Operating System\",\"os\")\n",
    "    column = column.replace(\" \",\"_\")\n",
    "    column = column.replace(\")\",\"\")\n",
    "    column = column.replace(\"(\",\"\")\n",
    "    column = column.lower()\n",
    "    return column\n",
    "laptops_copy.columns = [col_cleaner(c) for c in laptops_copy.columns]\n",
    "print(laptops_copy.columns)"
   ]
  },
  {
   "cell_type": "code",
   "execution_count": 80,
   "metadata": {},
   "outputs": [
    {
     "name": "stdout",
     "output_type": "stream",
     "text": [
      "    category screen_size                              screen\n",
      "0  Ultrabook       13.3\"  IPS Panel Retina Display 2560x1600\n",
      "1  Ultrabook       13.3\"                            1440x900\n",
      "2   Notebook       15.6\"                   Full HD 1920x1080\n",
      "3  Ultrabook       15.4\"  IPS Panel Retina Display 2880x1800\n",
      "4  Ultrabook       13.3\"  IPS Panel Retina Display 2560x1600\n",
      "object\n",
      "['13.3\"' '15.6\"' '15.4\"' '14.0\"' '12.0\"' '11.6\"' '17.3\"' '10.1\"' '13.5\"'\n",
      " '12.5\"' '13.0\"' '18.4\"' '13.9\"' '12.3\"' '17.0\"' '15.0\"' '14.1\"' '11.3\"']\n"
     ]
    }
   ],
   "source": [
    "#****************************Convert the screen_size field from text to a numeric data type******************************#\n",
    "    #Step 1 - Observe data for patterns and special cases\n",
    "print(laptops_copy.iloc[:5,2:5])\n",
    "print(laptops_copy[\"screen_size\"].dtype)\n",
    "print(laptops_copy[\"screen_size\"].unique())"
   ]
  },
  {
   "cell_type": "code",
   "execution_count": 81,
   "metadata": {},
   "outputs": [
    {
     "name": "stdout",
     "output_type": "stream",
     "text": [
      "['13.3' '15.6' '15.4' '14.0' '12.0' '11.6' '17.3' '10.1' '13.5' '12.5'\n",
      " '13.0' '18.4' '13.9' '12.3' '17.0' '15.0' '14.1' '11.3']\n"
     ]
    }
   ],
   "source": [
    "    #Step 2 - Remove non-digit characters\n",
    "laptops_copy[\"screen_size\"] = laptops_copy[\"screen_size\"].str.replace('\"','')\n",
    "print(laptops_copy[\"screen_size\"].unique())"
   ]
  },
  {
   "cell_type": "code",
   "execution_count": 82,
   "metadata": {},
   "outputs": [
    {
     "name": "stdout",
     "output_type": "stream",
     "text": [
      "float64\n",
      "[13.3 15.6 15.4 14.  12.  11.6 17.3 10.1 13.5 12.5 13.  18.4 13.9 12.3\n",
      " 17.  15.  14.1 11.3]\n"
     ]
    }
   ],
   "source": [
    "    #Step 3 - convert (or cast) the column to a numeric dtype\n",
    "laptops_copy[\"screen_size\"] = laptops_copy[\"screen_size\"].astype(float)   \n",
    "print(laptops_copy[\"screen_size\"].dtype)\n",
    "print(laptops_copy[\"screen_size\"].unique())\n"
   ]
  },
  {
   "cell_type": "code",
   "execution_count": 83,
   "metadata": {},
   "outputs": [
    {
     "name": "stdout",
     "output_type": "stream",
     "text": [
      "manufacturer           object\n",
      "model_name             object\n",
      "category               object\n",
      "screen_size_inches    float64\n",
      "screen                 object\n",
      "cpu                    object\n",
      "ram                    object\n",
      "storage                object\n",
      "gpu                    object\n",
      "os                     object\n",
      "os_version             object\n",
      "weight                 object\n",
      "price_euros            object\n",
      "dtype: object\n"
     ]
    }
   ],
   "source": [
    "    #Step 4 - Rename column if needed\n",
    "laptops_copy.rename({\"screen_size\":\"screen_size_inches\"}, axis=1, inplace=True)\n",
    "print(laptops_copy.dtypes)"
   ]
  },
  {
   "cell_type": "code",
   "execution_count": 84,
   "metadata": {},
   "outputs": [
    {
     "name": "stdout",
     "output_type": "stream",
     "text": [
      "object\n",
      "['8GB' '16GB' '4GB' '2GB' '12GB' '6GB' '32GB' '24GB' '64GB']\n",
      "['8' '16' '4' '2' '12' '6' '32' '24' '64']\n",
      "[ 8 16  4  2 12  6 32 24 64]\n",
      "manufacturer           object\n",
      "model_name             object\n",
      "category               object\n",
      "screen_size_inches    float64\n",
      "screen                 object\n",
      "cpu                    object\n",
      "ram_gb                  int32\n",
      "storage                object\n",
      "gpu                    object\n",
      "os                     object\n",
      "os_version             object\n",
      "weight                 object\n",
      "price_euros            object\n",
      "dtype: object\n"
     ]
    }
   ],
   "source": [
    "#****************************Convert the ram field from text to a numeric data type******************************#\n",
    "    #Step 1 - Observe data for patterns and special cases\n",
    "print(laptops_copy[\"ram\"].dtype) \n",
    "print(laptops_copy[\"ram\"].unique())\n",
    "\n",
    "    #Step 2 - Remove non-digit characters\n",
    "laptops_copy[\"ram\"] = laptops_copy[\"ram\"].str.replace('GB','') \n",
    "print(laptops_copy[\"ram\"].unique())\n",
    "\n",
    "    #Step 3 - convert (or cast) the column to a numeric dtype\n",
    "laptops_copy[\"ram\"] = laptops_copy[\"ram\"].astype(int)   \n",
    "print(laptops_copy[\"ram\"].unique())\n",
    "\n",
    "    #Step 4 - Rename column if needed   \n",
    "laptops_copy.rename({\"ram\":\"ram_gb\"}, axis=1, inplace=True)\n",
    "dtypes = laptops_copy.dtypes\n",
    "print(dtypes)"
   ]
  },
  {
   "cell_type": "code",
   "execution_count": null,
   "metadata": {},
   "outputs": [],
   "source": []
  },
  {
   "cell_type": "code",
   "execution_count": null,
   "metadata": {},
   "outputs": [],
   "source": []
  }
 ],
 "metadata": {
  "kernelspec": {
   "display_name": "Python 3",
   "language": "python",
   "name": "python3"
  },
  "language_info": {
   "codemirror_mode": {
    "name": "ipython",
    "version": 3
   },
   "file_extension": ".py",
   "mimetype": "text/x-python",
   "name": "python",
   "nbconvert_exporter": "python",
   "pygments_lexer": "ipython3",
   "version": "3.6.4"
  }
 },
 "nbformat": 4,
 "nbformat_minor": 2
}
