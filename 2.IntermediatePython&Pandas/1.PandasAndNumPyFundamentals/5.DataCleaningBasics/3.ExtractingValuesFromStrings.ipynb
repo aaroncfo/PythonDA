{
 "cells": [
  {
   "cell_type": "code",
   "execution_count": 35,
   "metadata": {},
   "outputs": [],
   "source": [
    "import pandas as pd\n",
    "import numpy as np\n",
    "\n",
    "laptops = pd.read_csv(\"https://raw.githubusercontent.com/aaroncfo/PythonDA/master/2.IntermediatePython%26Pandas/5.DataCleaningBasics/laptops.csv\", encoding  = \"Windows-1251\")\n",
    "laptops_copy = laptops.copy()"
   ]
  },
  {
   "cell_type": "code",
   "execution_count": 36,
   "metadata": {},
   "outputs": [
    {
     "name": "stdout",
     "output_type": "stream",
     "text": [
      "Index(['Manufacturer', 'Model Name', 'Category', 'Screen Size', 'Screen',\n",
      "       'CPU', 'RAM', ' Storage', 'GPU', 'Operating System',\n",
      "       'Operating System Version', 'Weight', 'Price (Euros)'],\n",
      "      dtype='object')\n"
     ]
    }
   ],
   "source": [
    "print(laptops_copy.columns)"
   ]
  },
  {
   "cell_type": "code",
   "execution_count": 37,
   "metadata": {},
   "outputs": [
    {
     "name": "stdout",
     "output_type": "stream",
     "text": [
      "Index(['manufacturer', 'model_name', 'category', 'screen_size', 'screen',\n",
      "       'cpu', 'ram', 'storage', 'gpu', 'os', 'os_version', 'weight',\n",
      "       'price_euros'],\n",
      "      dtype='object')\n"
     ]
    }
   ],
   "source": [
    "def col_cleaner(column):\n",
    "    column = column.strip()\n",
    "    column = column.replace(\"Operating System\",\"os\")\n",
    "    column = column.replace(\" \",\"_\")\n",
    "    column = column.replace(\")\",\"\")\n",
    "    column = column.replace(\"(\",\"\")\n",
    "    column = column.lower()\n",
    "    return column\n",
    "laptops_copy.columns = [col_cleaner(c) for c in laptops_copy.columns]\n",
    "print(laptops_copy.columns)"
   ]
  },
  {
   "cell_type": "code",
   "execution_count": 38,
   "metadata": {},
   "outputs": [
    {
     "data": {
      "text/plain": [
       "0    Intel Iris Plus Graphics 640\n",
       "1          Intel HD Graphics 6000\n",
       "2           Intel HD Graphics 620\n",
       "3              AMD Radeon Pro 455\n",
       "4    Intel Iris Plus Graphics 650\n",
       "5                   AMD Radeon R5\n",
       "6         Intel Iris Pro Graphics\n",
       "7          Intel HD Graphics 6000\n",
       "8            Nvidia GeForce MX150\n",
       "9          Intel UHD Graphics 620\n",
       "Name: gpu, dtype: object"
      ]
     },
     "execution_count": 38,
     "metadata": {},
     "output_type": "execute_result"
    }
   ],
   "source": [
    "laptops_copy[\"gpu\"].head(10)\n"
   ]
  },
  {
   "cell_type": "code",
   "execution_count": 39,
   "metadata": {},
   "outputs": [
    {
     "data": {
      "text/plain": [
       "0    [Intel, Iris, Plus, Graphics, 640]\n",
       "1           [Intel, HD, Graphics, 6000]\n",
       "2            [Intel, HD, Graphics, 620]\n",
       "3               [AMD, Radeon, Pro, 455]\n",
       "4    [Intel, Iris, Plus, Graphics, 650]\n",
       "5                     [AMD, Radeon, R5]\n",
       "6          [Intel, Iris, Pro, Graphics]\n",
       "7           [Intel, HD, Graphics, 6000]\n",
       "8              [Nvidia, GeForce, MX150]\n",
       "9           [Intel, UHD, Graphics, 620]\n",
       "Name: gpu, dtype: object"
      ]
     },
     "execution_count": 39,
     "metadata": {},
     "output_type": "execute_result"
    }
   ],
   "source": [
    "laptops_copy[\"gpu\"].head(10).str.split()"
   ]
  },
  {
   "cell_type": "code",
   "execution_count": 40,
   "metadata": {},
   "outputs": [
    {
     "data": {
      "text/html": [
       "<div>\n",
       "<style scoped>\n",
       "    .dataframe tbody tr th:only-of-type {\n",
       "        vertical-align: middle;\n",
       "    }\n",
       "\n",
       "    .dataframe tbody tr th {\n",
       "        vertical-align: top;\n",
       "    }\n",
       "\n",
       "    .dataframe thead th {\n",
       "        text-align: right;\n",
       "    }\n",
       "</style>\n",
       "<table border=\"1\" class=\"dataframe\">\n",
       "  <thead>\n",
       "    <tr style=\"text-align: right;\">\n",
       "      <th></th>\n",
       "      <th>0</th>\n",
       "      <th>1</th>\n",
       "    </tr>\n",
       "  </thead>\n",
       "  <tbody>\n",
       "    <tr>\n",
       "      <th>0</th>\n",
       "      <td>Intel</td>\n",
       "      <td>Iris Plus Graphics 640</td>\n",
       "    </tr>\n",
       "    <tr>\n",
       "      <th>1</th>\n",
       "      <td>Intel</td>\n",
       "      <td>HD Graphics 6000</td>\n",
       "    </tr>\n",
       "    <tr>\n",
       "      <th>2</th>\n",
       "      <td>Intel</td>\n",
       "      <td>HD Graphics 620</td>\n",
       "    </tr>\n",
       "    <tr>\n",
       "      <th>3</th>\n",
       "      <td>AMD</td>\n",
       "      <td>Radeon Pro 455</td>\n",
       "    </tr>\n",
       "    <tr>\n",
       "      <th>4</th>\n",
       "      <td>Intel</td>\n",
       "      <td>Iris Plus Graphics 650</td>\n",
       "    </tr>\n",
       "    <tr>\n",
       "      <th>5</th>\n",
       "      <td>AMD</td>\n",
       "      <td>Radeon R5</td>\n",
       "    </tr>\n",
       "    <tr>\n",
       "      <th>6</th>\n",
       "      <td>Intel</td>\n",
       "      <td>Iris Pro Graphics</td>\n",
       "    </tr>\n",
       "    <tr>\n",
       "      <th>7</th>\n",
       "      <td>Intel</td>\n",
       "      <td>HD Graphics 6000</td>\n",
       "    </tr>\n",
       "    <tr>\n",
       "      <th>8</th>\n",
       "      <td>Nvidia</td>\n",
       "      <td>GeForce MX150</td>\n",
       "    </tr>\n",
       "    <tr>\n",
       "      <th>9</th>\n",
       "      <td>Intel</td>\n",
       "      <td>UHD Graphics 620</td>\n",
       "    </tr>\n",
       "  </tbody>\n",
       "</table>\n",
       "</div>"
      ],
      "text/plain": [
       "        0                       1\n",
       "0   Intel  Iris Plus Graphics 640\n",
       "1   Intel        HD Graphics 6000\n",
       "2   Intel         HD Graphics 620\n",
       "3     AMD          Radeon Pro 455\n",
       "4   Intel  Iris Plus Graphics 650\n",
       "5     AMD               Radeon R5\n",
       "6   Intel       Iris Pro Graphics\n",
       "7   Intel        HD Graphics 6000\n",
       "8  Nvidia           GeForce MX150\n",
       "9   Intel        UHD Graphics 620"
      ]
     },
     "execution_count": 40,
     "metadata": {},
     "output_type": "execute_result"
    }
   ],
   "source": [
    "laptops_copy[\"gpu\"].head(10).str.split(n=1, expand=True)"
   ]
  },
  {
   "cell_type": "code",
   "execution_count": 41,
   "metadata": {},
   "outputs": [
    {
     "data": {
      "text/plain": [
       "0    Intel\n",
       "1    Intel\n",
       "2    Intel\n",
       "3      AMD\n",
       "4    Intel\n",
       "Name: 0, dtype: object"
      ]
     },
     "execution_count": 41,
     "metadata": {},
     "output_type": "execute_result"
    }
   ],
   "source": [
    "laptops_copy[\"gpu\"].head().str.split(n=1,expand=True).iloc[:,0]"
   ]
  },
  {
   "cell_type": "code",
   "execution_count": 44,
   "metadata": {},
   "outputs": [
    {
     "data": {
      "text/plain": [
       "0    Intel\n",
       "1    Intel\n",
       "2    Intel\n",
       "3    Intel\n",
       "4    Intel\n",
       "5      AMD\n",
       "Name: cpu_manufacturer, dtype: object"
      ]
     },
     "execution_count": 44,
     "metadata": {},
     "output_type": "execute_result"
    }
   ],
   "source": [
    "laptops_copy[\"cpu_manufacturer\"] = laptops_copy[\"cpu\"].str.split(n=1,expand=True).iloc[:,0]\n",
    "laptops_copy.loc[:5,\"cpu_manufacturer\"]"
   ]
  },
  {
   "cell_type": "code",
   "execution_count": 50,
   "metadata": {},
   "outputs": [
    {
     "name": "stdout",
     "output_type": "stream",
     "text": [
      "0    IPS Panel Retina Display 2560x1600\n",
      "1                              1440x900\n",
      "2                     Full HD 1920x1080\n",
      "3    IPS Panel Retina Display 2880x1800\n",
      "4    IPS Panel Retina Display 2560x1600\n",
      "Name: screen, dtype: object\n",
      "                          0          1\n",
      "0  IPS Panel Retina Display  2560x1600\n",
      "1                  1440x900       None\n",
      "2                   Full HD  1920x1080\n",
      "3  IPS Panel Retina Display  2880x1800\n",
      "4  IPS Panel Retina Display  2560x1600\n"
     ]
    }
   ],
   "source": [
    "print(laptops_copy.loc[:4,\"screen\"])\n",
    "print(laptops_copy.loc[:4,\"screen\"].str.rsplit(n=1,expand = True))"
   ]
  },
  {
   "cell_type": "code",
   "execution_count": 52,
   "metadata": {},
   "outputs": [
    {
     "name": "stdout",
     "output_type": "stream",
     "text": [
      "                          A          B\n",
      "0  IPS Panel Retina Display  2560x1600\n",
      "1                  1440x900   1440x900\n",
      "2                   Full HD  1920x1080\n",
      "3  IPS Panel Retina Display  2880x1800\n",
      "4  IPS Panel Retina Display  2560x1600\n"
     ]
    }
   ],
   "source": [
    "screen_res = laptops_copy[\"screen\"].str.rsplit(n=1,expand=True)\n",
    "screen_res.columns = [\"A\",\"B\"]\n",
    "screen_res.loc[screen_res[\"B\"].isnull(), \"B\"] = screen_res[\"A\"]\n",
    "print(screen_res.loc[:4])"
   ]
  },
  {
   "cell_type": "code",
   "execution_count": 55,
   "metadata": {},
   "outputs": [
    {
     "name": "stdout",
     "output_type": "stream",
     "text": [
      "(15,)\n",
      "['2560x1600' '1440x900' '1920x1080' '2880x1800' '1366x768' '2304x1440'\n",
      " '3200x1800' '1920x1200' '2256x1504' '3840x2160' '2160x1440' '2560x1440'\n",
      " '1600x900' '2736x1824' '2400x1600']\n"
     ]
    }
   ],
   "source": [
    "laptops_copy[\"screen_resolution\"] = screen_res[\"B\"]\n",
    "print(laptops_copy[\"screen_resolution\"].unique().shape)\n",
    "print(laptops_copy[\"screen_resolution\"].unique())"
   ]
  },
  {
   "cell_type": "code",
   "execution_count": 57,
   "metadata": {},
   "outputs": [
    {
     "name": "stdout",
     "output_type": "stream",
     "text": [
      "0    2.3\n",
      "1    1.8\n",
      "2    2.5\n",
      "3    2.7\n",
      "4    3.1\n",
      "Name: cpu_speed_ghz, dtype: float64\n"
     ]
    }
   ],
   "source": [
    "cpu_cleanup = laptops_copy[\"cpu\"].str.replace('GHz','')\n",
    "cpu_cleanup = cpu_cleanup.str.rsplit(n=1,expand=True)\n",
    "laptops_copy[\"cpu_speed_ghz\"] = cpu_cleanup.iloc[:,1].astype(float)\n",
    "print(laptops_copy.loc[:4,\"cpu_speed_ghz\"])"
   ]
  },
  {
   "cell_type": "code",
   "execution_count": null,
   "metadata": {},
   "outputs": [],
   "source": []
  }
 ],
 "metadata": {
  "kernelspec": {
   "display_name": "Python 3",
   "language": "python",
   "name": "python3"
  },
  "language_info": {
   "codemirror_mode": {
    "name": "ipython",
    "version": 3
   },
   "file_extension": ".py",
   "mimetype": "text/x-python",
   "name": "python",
   "nbconvert_exporter": "python",
   "pygments_lexer": "ipython3",
   "version": "3.6.4"
  }
 },
 "nbformat": 4,
 "nbformat_minor": 2
}
